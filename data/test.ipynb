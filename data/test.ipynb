{
 "cells": [
  {
   "cell_type": "code",
   "execution_count": 2,
   "metadata": {},
   "outputs": [],
   "source": [
    "import pandas as pd\n",
    "import numpy as np"
   ]
  },
  {
   "cell_type": "code",
   "execution_count": 5,
   "metadata": {},
   "outputs": [
    {
     "data": {
      "text/plain": [
       "Unnamed: 0                int64\n",
       "brand_name               object\n",
       "model                    object\n",
       "price                   float64\n",
       "rating                  float64\n",
       "has_5g                     bool\n",
       "has_nfc                    bool\n",
       "has_ir_blaster             bool\n",
       "processor_name           object\n",
       "processor_brand          object\n",
       "num_cores                object\n",
       "processor_speed         float64\n",
       "battery_capacity        float64\n",
       "fast_charging             int64\n",
       "ram_capacity            float64\n",
       "internal_memory         float64\n",
       "refresh_rate              int64\n",
       "resolution               object\n",
       "num_rear_cameras          int64\n",
       "num_front_cameras        object\n",
       "os                       object\n",
       "primary_camera_rear      object\n",
       "primary_camera_front    float64\n",
       "extended_memory          object\n",
       "dtype: object"
      ]
     },
     "execution_count": 5,
     "metadata": {},
     "output_type": "execute_result"
    }
   ],
   "source": [
    "df = pd.read_csv('smartphone_cleaned.csv')\n",
    "df.dtypes"
   ]
  },
  {
   "cell_type": "code",
   "execution_count": null,
   "metadata": {},
   "outputs": [],
   "source": []
  }
 ],
 "metadata": {
  "kernelspec": {
   "display_name": "dsc106",
   "language": "python",
   "name": "python3"
  },
  "language_info": {
   "codemirror_mode": {
    "name": "ipython",
    "version": 3
   },
   "file_extension": ".py",
   "mimetype": "text/x-python",
   "name": "python",
   "nbconvert_exporter": "python",
   "pygments_lexer": "ipython3",
   "version": "3.12.2"
  }
 },
 "nbformat": 4,
 "nbformat_minor": 2
}
