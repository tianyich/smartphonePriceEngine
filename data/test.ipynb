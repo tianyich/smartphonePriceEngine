{
 "cells": [
  {
   "cell_type": "code",
   "execution_count": 4,
   "metadata": {},
   "outputs": [],
   "source": [
    "import pandas as pd\n",
    "import numpy as np"
   ]
  },
  {
   "cell_type": "code",
   "execution_count": 5,
   "metadata": {},
   "outputs": [
    {
     "data": {
      "text/plain": [
       "Unnamed: 0                int64\n",
       "brand_name               object\n",
       "model                    object\n",
       "price                   float64\n",
       "rating                  float64\n",
       "has_5g                     bool\n",
       "has_nfc                    bool\n",
       "has_ir_blaster             bool\n",
       "processor_name           object\n",
       "processor_brand          object\n",
       "num_cores                object\n",
       "processor_speed         float64\n",
       "battery_capacity        float64\n",
       "fast_charging             int64\n",
       "ram_capacity            float64\n",
       "internal_memory         float64\n",
       "refresh_rate              int64\n",
       "resolution               object\n",
       "num_rear_cameras          int64\n",
       "num_front_cameras        object\n",
       "os                       object\n",
       "primary_camera_rear      object\n",
       "primary_camera_front    float64\n",
       "extended_memory          object\n",
       "dtype: object"
      ]
     },
     "execution_count": 5,
     "metadata": {},
     "output_type": "execute_result"
    }
   ],
   "source": [
    "df = pd.read_csv('smartphone_cleaned.csv')\n",
    "df.dtypes"
   ]
  },
  {
   "cell_type": "code",
   "execution_count": 6,
   "metadata": {},
   "outputs": [
    {
     "data": {
      "text/plain": [
       "array(['oneplus', 'samsung', 'motorola', 'realme', 'apple', 'xiaomi',\n",
       "       'nothing', 'oppo', 'vivo', 'poco', 'iqoo', 'jio', 'tecno',\n",
       "       'google', 'infinix', 'nokia', 'lava', 'honor', 'nubia', 'asus',\n",
       "       'itel', 'sony', 'huawei'], dtype=object)"
      ]
     },
     "execution_count": 6,
     "metadata": {},
     "output_type": "execute_result"
    }
   ],
   "source": [
    "df['brand_name'].unique()"
   ]
  },
  {
   "cell_type": "code",
   "execution_count": 7,
   "metadata": {},
   "outputs": [
    {
     "data": {
      "text/plain": [
       "0      True\n",
       "1      True\n",
       "2      True\n",
       "3      True\n",
       "4      True\n",
       "       ... \n",
       "933    True\n",
       "934    True\n",
       "935    True\n",
       "936    True\n",
       "937    True\n",
       "Name: has_5g, Length: 938, dtype: bool"
      ]
     },
     "execution_count": 7,
     "metadata": {},
     "output_type": "execute_result"
    }
   ],
   "source": [
    "df['has_5g']"
   ]
  },
  {
   "cell_type": "code",
   "execution_count": 12,
   "metadata": {},
   "outputs": [
    {
     "data": {
      "text/plain": [
       "[1.0, 2.0, 3.0, 4.0, 6.0, 8.0, 12.0, 16.0, 18.0, 64.0]"
      ]
     },
     "execution_count": 12,
     "metadata": {},
     "output_type": "execute_result"
    }
   ],
   "source": [
    "sorted(df['ram_capacity'].unique())"
   ]
  },
  {
   "cell_type": "code",
   "execution_count": 14,
   "metadata": {},
   "outputs": [
    {
     "data": {
      "text/plain": [
       "array([120,  90,  60, 144, 165])"
      ]
     },
     "execution_count": 14,
     "metadata": {},
     "output_type": "execute_result"
    }
   ],
   "source": [
    "df['refresh_rate'].unique()"
   ]
  },
  {
   "cell_type": "code",
   "execution_count": 15,
   "metadata": {},
   "outputs": [
    {
     "data": {
      "text/plain": [
       "array(['android', 'ios', 'No FM Radio', nan, 'Not Specified',\n",
       "       'Memory Card Not Supported', 'other',\n",
       "       'Memory Card (Hybrid), upto 256\\u2009GB'], dtype=object)"
      ]
     },
     "execution_count": 15,
     "metadata": {},
     "output_type": "execute_result"
    }
   ],
   "source": [
    "df['os'].unique()"
   ]
  },
  {
   "cell_type": "code",
   "execution_count": 18,
   "metadata": {},
   "outputs": [
    {
     "data": {
      "text/plain": [
       "array([ 256.,  128.,   64.,   32.,  512., 1024.,   16.,   nan,  240.,\n",
       "          8.])"
      ]
     },
     "execution_count": 18,
     "metadata": {},
     "output_type": "execute_result"
    }
   ],
   "source": [
    "df['internal_memory'].unique()"
   ]
  },
  {
   "cell_type": "code",
   "execution_count": 21,
   "metadata": {},
   "outputs": [
    {
     "data": {
      "text/plain": [
       "array(['Octa Core', 'Hexa Core', 'Quad Core', nan], dtype=object)"
      ]
     },
     "execution_count": 21,
     "metadata": {},
     "output_type": "execute_result"
    }
   ],
   "source": [
    "df['num_cores'].unique()"
   ]
  },
  {
   "cell_type": "code",
   "execution_count": 22,
   "metadata": {},
   "outputs": [
    {
     "data": {
      "text/plain": [
       "array(['oneplus', 'samsung', 'motorola', 'realme', 'apple', 'xiaomi',\n",
       "       'nothing', 'oppo', 'vivo', 'poco', 'iqoo', 'jio', 'tecno',\n",
       "       'google', 'infinix', 'nokia', 'lava', 'honor', 'nubia', 'asus',\n",
       "       'itel', 'sony', 'huawei'], dtype=object)"
      ]
     },
     "execution_count": 22,
     "metadata": {},
     "output_type": "execute_result"
    }
   ],
   "source": [
    "df['brand_name'].unique()"
   ]
  },
  {
   "cell_type": "code",
   "execution_count": null,
   "metadata": {},
   "outputs": [],
   "source": []
  }
 ],
 "metadata": {
  "kernelspec": {
   "display_name": "dsc106",
   "language": "python",
   "name": "python3"
  },
  "language_info": {
   "codemirror_mode": {
    "name": "ipython",
    "version": 3
   },
   "file_extension": ".py",
   "mimetype": "text/x-python",
   "name": "python",
   "nbconvert_exporter": "python",
   "pygments_lexer": "ipython3",
   "version": "3.12.2"
  }
 },
 "nbformat": 4,
 "nbformat_minor": 2
}
